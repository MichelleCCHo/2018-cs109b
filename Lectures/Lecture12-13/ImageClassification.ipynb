{
 "cells": [
  {
   "cell_type": "markdown",
   "metadata": {},
   "source": [
    "## Introduction to Deep Learning Image Classification using Keras\n",
    "\n",
    "#### Presented by Pavlos Protopapas, Harvard Institute for Applied Computational Science\n",
    "\n",
    "\n",
    "This notebook will cover the following topics:\n",
    "\n",
    "* [Theory about neural networks, backpropagation, optimization, etc.](#part1)\n",
    "    * [From Linear to Deep Learning](#part11)\n",
    "    * [Components of Deep Learning](#part12)\n",
    "* [Keras basics (functions, etc.)](#part2)\n",
    "    * [Keras Installation](#part21)\n",
    "    * [Keras Basic - MNIST](#part22)\n",
    "* [Fundamentals of Machine Learning](#part3) \n",
    "<!-- * [Matplotlib visualization](#part4) -->\n",
    "* [Example with \n",
    "* [References and Where to Learning More](#references)\n"
   ]
  },
  {
   "cell_type": "markdown",
   "metadata": {},
   "source": [
    "<a id='part1'></a>\n",
    "## Part 1 - Theory about Neural Networks"
   ]
  },
  {
   "cell_type": "markdown",
   "metadata": {},
   "source": [
    "<a id='part11'></a>\n",
    "### 1.1 - From Linear to Deep Learning Models\n",
    "\n",
    "#### Beyond Linear Models\n",
    "\n",
    "Linear models can be fit efficiently via convex optimization, but the model capacity is limited.\n",
    "\n",
    "Alternative:\n",
    "$$ f(x) = w^T\\phi(x) $$\n",
    "where $\\phi$ is a *non-linear transform*\n",
    "\n",
    "A machine-learning model transforms its input data into meaningful outputs, a process that is “learned” from exposure to known examples of inputs and outputs. Therefore, the central problem in machine learning and deep learning is to meaningfully transform data: in other words, to learn useful *representations* of the input data at hand—representations that get us closer to the expected output.\n",
    "\n",
    "#### Traditional Machine Learning\n",
    "\n",
    "One option is to use a very generic $\\phi$. If $\\phi(x)$ is of high enough dimension, we can always have enough capacity to fit the training set, but generalization to the test set often remains poor. Very generic feature mappings are usually based only on the principle of local smoothness and do not encode enough prior information to solve advanced problems.\n",
    "\n",
    "Another option is to manually engineer $\\phi$. Until the advent of deep learning, this was the dominant approach. It requires decades of human eﬀort foreach separate task, with practitioners specializing in different domains, such as speech recognition or computer vision, and with little transfer between domains.\n",
    "\n",
    "#### Deep Learning\n",
    "\n",
    "Directly learn $\\phi$ with parameters $\\theta$, specifically:\n",
    "$$f(x;\\theta) = w^T\\phi(x;\\theta)$$\n",
    "\n",
    "\n",
    "We now have parameters $\\theta$ that we use to learn $\\phi$ from a broad class of functions, and parameters that map from $\\phi(x)$ to the desired output. This is an example of a deep feed-forward network, with $\\phi$ deﬁning a hidden layer. This approach is the only one of the three that gives up on the convexity of the training problem, but the beneﬁts outweigh the harms. In this approach, we parametrize the representation as $\\phi(x;\\theta)$ and use the optimization algorithm to ﬁnd the $\\theta$ that corresponds to a good representation. If we wish, this approach can capture the beneﬁt of the first approach by being highly generic—we do so by using a very broad family $\\phi(x;\\theta)$. Deep learning can also capture the beneﬁt of the second approach. Human practitioners can encode their knowledge to help generalization by designing families $\\phi(x;\\theta)$ that they expect will perform well. The advantage is that the human designer only needs to ﬁnd the right general function family rather than ﬁnding precisely the right function.\n",
    "\n",
    "![layers of representations](representations.png)\n",
    "\n",
    "The *deep* in *deep learning* isn’t a reference to any kind of deeper understanding achieved by the approach; rather, it stands for this idea of successive layers of representations. How many layers contribute to a model of the data is called the *depth* of the model. Other appropriate names for the field could have been *layered representations learning* and *hierarchical representations learning*. Modern deep learning often involves tens or even hundreds of successive layers of representations— and they’re all learned automatically from exposure to training data.\n"
   ]
  },
  {
   "cell_type": "markdown",
   "metadata": {},
   "source": [
    "<a id='part12'></a>\n",
    "### 1.2 - Components of Deep Learning\n",
    "\n",
    "To do machine learning, we need three things:\n",
    "* **Input** data points—For instance, if the task is speech recognition, these data points could be sound files of people speaking. If the task is image tagging, they could be pictures.\n",
    "* Examples of the expected **output** —In a speech-recognition task, these could be human-generated transcripts of sound files. In an image task, expected outputs could be tags such as “dog,” “cat,” and so on.\n",
    "* A **cost (or loss) function** which is a way to measure whether the algorithm is doing a good job. This is necessary in order to determine the distance between the algorithm’s current output and its expected output. The measurement is used as a feedback signal to adjust the way the algorithm works. This adjustment step is what we call *learning*.\n",
    "\n",
    "![components of deep learning](components.png)\n",
    "\n",
    "\n"
   ]
  },
  {
   "cell_type": "markdown",
   "metadata": {},
   "source": [
    "<a id='part2'></a>\n",
    "## Part 2 - Keras Basics"
   ]
  },
  {
   "cell_type": "markdown",
   "metadata": {},
   "source": [
    "\n",
    "<a id='part21'></a>\n",
    "### Part 2.1 - Keras Installation\n",
    "\n",
    "If you haven't already, please install Keras using the instructions found at [https://keras.io/#installation](https://keras.io/#installation)\n",
    "\n",
    "Choose the TensorFlow installation instructions (found at [https://www.tensorflow.org/install/](https://www.tensorflow.org/install/) )\n",
    "\n",
    "Note the following:\n",
    "\n",
    "* cuDNN is only required if your machine has an NVidia graphics card (GPU)\n",
    "* For this tutorial, HDF5 and h5py are not required\n",
    "* graphviz and pydot are not required"
   ]
  },
  {
   "cell_type": "markdown",
   "metadata": {},
   "source": [
    "<a id='part22'></a>\n",
    "### Part 2.2 - Keras Basics\n"
   ]
  },
  {
   "cell_type": "code",
   "execution_count": 2,
   "metadata": {},
   "outputs": [
    {
     "name": "stderr",
     "output_type": "stream",
     "text": [
      "Using TensorFlow backend.\n"
     ]
    },
    {
     "data": {
      "text/plain": [
       "'2.1.4'"
      ]
     },
     "execution_count": 2,
     "metadata": {},
     "output_type": "execute_result"
    }
   ],
   "source": [
    "import keras\n",
    "keras.__version__"
   ]
  },
  {
   "cell_type": "markdown",
   "metadata": {},
   "source": [
    "# A first look at a neural network\n",
    "\n",
    "This notebook contains the code samples found in Chapter 2, Section 1 of [Deep Learning with Python](https://www.manning.com/books/deep-learning-with-python?a_aid=keras&a_bid=76564dff). Note that the original text features far more content, in particular further explanations and figures: in this notebook, you will only find source code and related comments.\n",
    "\n",
    "----\n",
    "\n",
    "We will now take a look at a first concrete example of a neural network, which makes use of the Python library Keras to learn to classify \n",
    "hand-written digits. Unless you already have experience with Keras or similar libraries, you will not understand everything about this \n",
    "first example right away. You probably haven't even installed Keras yet. Don't worry, that is perfectly fine. In the next chapter, we will \n",
    "review each element in our example and explain them in detail. So don't worry if some steps seem arbitrary or look like magic to you! \n",
    "We've got to start somewhere.\n",
    "\n",
    "The problem we are trying to solve here is to classify grayscale images of handwritten digits (28 pixels by 28 pixels), into their 10 \n",
    "categories (0 to 9). The dataset we will use is the MNIST dataset, a classic dataset in the machine learning community, which has been \n",
    "around for almost as long as the field itself and has been very intensively studied. It's a set of 60,000 training images, plus 10,000 test \n",
    "images, assembled by the National Institute of Standards and Technology (the NIST in MNIST) in the 1980s. You can think of \"solving\" MNIST \n",
    "as the \"Hello World\" of deep learning -- it's what you do to verify that your algorithms are working as expected. As you become a machine \n",
    "learning practitioner, you will see MNIST come up over and over again, in scientific papers, blog posts, and so on.\n",
    "\n",
    "\n",
    "![MNIST digits](MNIST.png)"
   ]
  },
  {
   "cell_type": "markdown",
   "metadata": {},
   "source": [
    "The MNIST dataset comes pre-loaded in Keras, in the form of a set of four Numpy arrays:"
   ]
  },
  {
   "cell_type": "code",
<<<<<<< HEAD
   "execution_count": 3,
=======
   "execution_count": 2,
>>>>>>> 38f26f41a9403159284703b375e5ef2c9ec2b243
   "metadata": {},
   "outputs": [
    {
     "name": "stdout",
     "output_type": "stream",
     "text": [
      "Downloading data from https://s3.amazonaws.com/img-datasets/mnist.npz\n",
<<<<<<< HEAD
      "11493376/11490434 [==============================] - 3s 0us/step\n"
=======
      "11493376/11490434 [==============================] - 1s 0us/step\n"
>>>>>>> 38f26f41a9403159284703b375e5ef2c9ec2b243
     ]
    }
   ],
   "source": [
    "from keras.datasets import mnist\n",
    "\n",
    "(train_images, train_labels), (test_images, test_labels) = mnist.load_data()"
   ]
  },
  {
   "cell_type": "markdown",
   "metadata": {},
   "source": [
    "`train_images` and `train_labels` form the \"training set\", the data that the model will learn from. The model will then be tested on the \n",
    "\"test set\", `test_images` and `test_labels`. Our images are encoded as Numpy arrays, and the labels are simply an array of digits, ranging \n",
    "from 0 to 9. There is a one-to-one correspondence between the images and the labels.\n",
    "\n",
    "Let's have a look at the training data:"
   ]
  },
  {
   "cell_type": "code",
   "execution_count": 4,
   "metadata": {},
   "outputs": [
    {
     "data": {
      "text/plain": [
       "(60000, 28, 28)"
      ]
     },
     "execution_count": 4,
     "metadata": {},
     "output_type": "execute_result"
    }
   ],
   "source": [
    "train_images.shape"
   ]
  },
  {
   "cell_type": "code",
   "execution_count": 5,
   "metadata": {},
   "outputs": [
    {
     "data": {
      "text/plain": [
       "60000"
      ]
     },
     "execution_count": 5,
     "metadata": {},
     "output_type": "execute_result"
    }
   ],
   "source": [
    "len(train_labels)"
   ]
  },
  {
   "cell_type": "code",
   "execution_count": 6,
   "metadata": {},
   "outputs": [
    {
     "data": {
      "text/plain": [
       "array([0, 1, 2, 3, 4, 5, 6, 7, 8, 9], dtype=uint8)"
      ]
     },
     "execution_count": 6,
     "metadata": {},
     "output_type": "execute_result"
    }
   ],
   "source": [
    "import numpy as np\n",
    "np.unique(train_labels)"
   ]
  },
  {
   "cell_type": "code",
   "execution_count": 7,
   "metadata": {},
   "outputs": [
    {
     "data": {
      "text/plain": [
<<<<<<< HEAD
       "<matplotlib.image.AxesImage at 0x18277ea240>"
=======
       "<matplotlib.image.AxesImage at 0x18232ea7f0>"
>>>>>>> 38f26f41a9403159284703b375e5ef2c9ec2b243
      ]
     },
     "execution_count": 7,
     "metadata": {},
     "output_type": "execute_result"
    },
    {
     "name": "stderr",
     "output_type": "stream",
     "text": [
      "/Users/eleni/anaconda2/envs/tensorflow/lib/python3.6/site-packages/matplotlib/font_manager.py:280: UserWarning: Matplotlib is building the font cache using fc-list. This may take a moment.\n",
      "  'Matplotlib is building the font cache using fc-list. '\n"
     ]
    },
    {
     "data": {
<<<<<<< HEAD
      "image/png": "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\n",
      "text/plain": [
       "<matplotlib.figure.Figure at 0x113cb3668>"
=======
      "image/png": "iVBORw0KGgoAAAANSUhEUgAAAP8AAAD8CAYAAAC4nHJkAAAABHNCSVQICAgIfAhkiAAAAAlwSFlz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\npaIMv1SU4ZeK+n9K5Mq9Q15G7wAAAABJRU5ErkJggg==\n",
      "text/plain": [
       "<matplotlib.figure.Figure at 0x181abdf5f8>"
>>>>>>> 38f26f41a9403159284703b375e5ef2c9ec2b243
      ]
     },
     "metadata": {},
     "output_type": "display_data"
    }
   ],
   "source": [
    "import matplotlib.pylab as plt\n",
    "%matplotlib inline \n",
    "\n",
    "plt.imshow(test_images[2,:,:])"
   ]
  },
  {
   "cell_type": "markdown",
   "metadata": {},
   "source": [
    "Let's have a look at the test data:"
   ]
  },
  {
   "cell_type": "code",
   "execution_count": 8,
   "metadata": {},
   "outputs": [
    {
     "data": {
      "text/plain": [
       "(10000, 28, 28)"
      ]
     },
     "execution_count": 8,
     "metadata": {},
     "output_type": "execute_result"
    }
   ],
   "source": [
    "test_images.shape"
   ]
  },
  {
   "cell_type": "code",
   "execution_count": 9,
   "metadata": {},
   "outputs": [
    {
     "data": {
      "text/plain": [
       "10000"
      ]
     },
     "execution_count": 9,
     "metadata": {},
     "output_type": "execute_result"
    }
   ],
   "source": [
    "len(test_labels)"
   ]
  },
  {
   "cell_type": "code",
   "execution_count": 10,
   "metadata": {},
   "outputs": [
    {
     "data": {
      "text/plain": [
       "array([7, 2, 1, ..., 4, 5, 6], dtype=uint8)"
      ]
     },
     "execution_count": 10,
     "metadata": {},
     "output_type": "execute_result"
    }
   ],
   "source": [
    "test_labels"
   ]
  },
  {
   "cell_type": "code",
   "execution_count": 11,
   "metadata": {},
   "outputs": [
    {
     "data": {
      "text/plain": [
       "(10000, 28, 28)"
      ]
     },
     "execution_count": 11,
     "metadata": {},
     "output_type": "execute_result"
    }
   ],
   "source": [
    "test_images.shape"
   ]
  },
  {
   "cell_type": "markdown",
   "metadata": {},
   "source": [
    "Our workflow will be as follow: first we will present our neural network with the training data, `train_images` and `train_labels`. The \n",
    "network will then learn to associate images and labels. Finally, we will ask the network to produce predictions for `test_images`, and we \n",
    "will verify if these predictions match the labels from `test_labels`.\n",
    "\n",
    "Let's build our network -- again, remember that you aren't supposed to understand everything about this example just yet."
   ]
  },
  {
   "cell_type": "code",
<<<<<<< HEAD
   "execution_count": 12,
=======
   "execution_count": 11,
>>>>>>> 38f26f41a9403159284703b375e5ef2c9ec2b243
   "metadata": {},
   "outputs": [],
   "source": [
    "from keras import models\n",
    "from keras import layers\n",
    "\n",
    "network = models.Sequential()\n",
    "network.add(layers.Dense(12, activation='relu', input_shape=(28 * 28,)))\n",
    "network.add(layers.Dense(12, activation='relu', input_shape=(12,)))\n",
    "network.add(layers.Dense(10, activation='softmax'))"
   ]
  },
  {
   "cell_type": "markdown",
   "metadata": {},
   "source": [
    "\n",
    "The core building block of neural networks is the \"layer\", a data-processing module which you can conceive as a \"filter\" for data. Some \n",
    "data comes in, and comes out in a more useful form. Precisely, layers extract _representations_ out of the data fed into them -- hopefully \n",
    "representations that are more meaningful for the problem at hand. Most of deep learning really consists of chaining together simple layers \n",
    "which will implement a form of progressive \"data distillation\". A deep learning model is like a sieve for data processing, made of a \n",
    "succession of increasingly refined data filters -- the \"layers\".\n",
    "\n",
    "Here our network consists of a sequence of two `Dense` layers, which are densely-connected (also called \"fully-connected\") neural layers. \n",
    "The second (and last) layer is a 10-way \"softmax\" layer, which means it will return an array of 10 probability scores (summing to 1). Each \n",
    "score will be the probability that the current digit image belongs to one of our 10 digit classes.\n",
    "\n",
    "To make our network ready for training, we need to pick three more things, as part of \"compilation\" step:\n",
    "\n",
    "* A loss function: the is how the network will be able to measure how good a job it is doing on its training data, and thus how it will be \n",
    "able to steer itself in the right direction.\n",
    "* An optimizer: this is the mechanism through which the network will update itself based on the data it sees and its loss function.\n",
    "* Metrics to monitor during training and testing. Here we will only care about accuracy (the fraction of the images that were correctly \n",
    "classified).\n",
    "\n",
    "The exact purpose of the loss function and the optimizer will be made clear throughout the next two chapters."
   ]
  },
  {
   "cell_type": "code",
<<<<<<< HEAD
   "execution_count": 13,
=======
   "execution_count": 12,
>>>>>>> 38f26f41a9403159284703b375e5ef2c9ec2b243
   "metadata": {},
   "outputs": [],
   "source": [
    "network.compile(optimizer='rmsprop',\n",
    "                loss='categorical_crossentropy',\n",
    "                metrics=['accuracy'])"
   ]
  },
  {
   "cell_type": "markdown",
   "metadata": {},
   "source": [
    "\n",
    "Before training, we will preprocess our data by reshaping it into the shape that the network expects, and scaling it so that all values are in \n",
    "the `[0, 1]` interval. Previously, our training images for instance were stored in an array of shape `(60000, 28, 28)` of type `uint8` with \n",
    "values in the `[0, 255]` interval. We transform it into a `float32` array of shape `(60000, 28 * 28)` with values between 0 and 1."
   ]
  },
  {
   "cell_type": "code",
<<<<<<< HEAD
   "execution_count": 14,
=======
   "execution_count": 13,
>>>>>>> 38f26f41a9403159284703b375e5ef2c9ec2b243
   "metadata": {},
   "outputs": [],
   "source": [
    "train_images = train_images.reshape((60000, 28 * 28))\n",
    "train_images = train_images.astype('float32') / 255\n",
    "\n",
    "test_images = test_images.reshape((10000, 28 * 28))\n",
    "test_images = test_images.astype('float32') / 255"
   ]
  },
  {
   "cell_type": "markdown",
   "metadata": {},
   "source": [
    "We also need to categorically encode the labels, a step which we explain in chapter 3:"
   ]
  },
  {
   "cell_type": "code",
<<<<<<< HEAD
   "execution_count": 15,
=======
   "execution_count": 14,
>>>>>>> 38f26f41a9403159284703b375e5ef2c9ec2b243
   "metadata": {},
   "outputs": [],
   "source": [
    "from keras.utils import to_categorical\n",
    "\n",
    "train_labels = to_categorical(train_labels)\n",
    "test_labels = to_categorical(test_labels)"
   ]
  },
  {
   "cell_type": "markdown",
   "metadata": {},
   "source": [
    "We are now ready to train our network, which in Keras is done via a call to the `fit` method of the network: \n",
    "we \"fit\" the model to its training data."
   ]
  },
  {
   "cell_type": "code",
   "execution_count": 16,
   "metadata": {},
   "outputs": [
    {
     "name": "stdout",
     "output_type": "stream",
     "text": [
      "Epoch 1/25\n",
<<<<<<< HEAD
      "60000/60000 [==============================] - 1s 17us/step - loss: 0.8008 - acc: 0.7679\n",
      "Epoch 2/25\n",
      "60000/60000 [==============================] - 1s 11us/step - loss: 0.3403 - acc: 0.9043\n",
      "Epoch 3/25\n",
      "60000/60000 [==============================] - 1s 11us/step - loss: 0.2811 - acc: 0.9209\n",
      "Epoch 4/25\n",
      "60000/60000 [==============================] - 1s 11us/step - loss: 0.2543 - acc: 0.9273\n",
      "Epoch 5/25\n",
      "60000/60000 [==============================] - 1s 14us/step - loss: 0.2379 - acc: 0.9331\n",
      "Epoch 6/25\n",
      "60000/60000 [==============================] - 1s 14us/step - loss: 0.2274 - acc: 0.9358\n",
      "Epoch 7/25\n",
      "60000/60000 [==============================] - 1s 13us/step - loss: 0.2187 - acc: 0.9384\n",
      "Epoch 8/25\n",
      "60000/60000 [==============================] - 1s 14us/step - loss: 0.2113 - acc: 0.9404\n",
      "Epoch 9/25\n",
      "60000/60000 [==============================] - 1s 15us/step - loss: 0.2054 - acc: 0.9421\n",
      "Epoch 10/25\n",
      "60000/60000 [==============================] - 1s 14us/step - loss: 0.1995 - acc: 0.9432\n",
      "Epoch 11/25\n",
      "60000/60000 [==============================] - 1s 16us/step - loss: 0.1942 - acc: 0.9453\n",
      "Epoch 12/25\n",
      "60000/60000 [==============================] - 1s 13us/step - loss: 0.1895 - acc: 0.9456\n",
      "Epoch 13/25\n",
      "60000/60000 [==============================] - 1s 14us/step - loss: 0.1849 - acc: 0.9474\n",
      "Epoch 14/25\n",
      "60000/60000 [==============================] - 1s 13us/step - loss: 0.1814 - acc: 0.9483\n",
      "Epoch 15/25\n",
      "60000/60000 [==============================] - 1s 12us/step - loss: 0.1777 - acc: 0.9498\n",
      "Epoch 16/25\n",
      "60000/60000 [==============================] - 1s 12us/step - loss: 0.1751 - acc: 0.9500\n",
      "Epoch 17/25\n",
      "60000/60000 [==============================] - 1s 12us/step - loss: 0.1720 - acc: 0.9513\n",
      "Epoch 18/25\n",
      "60000/60000 [==============================] - 1s 12us/step - loss: 0.1695 - acc: 0.9520\n",
      "Epoch 19/25\n",
      "60000/60000 [==============================] - 1s 12us/step - loss: 0.1672 - acc: 0.9519\n",
      "Epoch 20/25\n",
      "60000/60000 [==============================] - 1s 12us/step - loss: 0.1647 - acc: 0.9529\n",
      "Epoch 21/25\n",
      "60000/60000 [==============================] - 1s 12us/step - loss: 0.1627 - acc: 0.9543\n",
      "Epoch 22/25\n",
      "60000/60000 [==============================] - 1s 12us/step - loss: 0.1609 - acc: 0.9537\n",
      "Epoch 23/25\n",
      "60000/60000 [==============================] - 1s 14us/step - loss: 0.1594 - acc: 0.9547\n",
      "Epoch 24/25\n",
      "60000/60000 [==============================] - 1s 13us/step - loss: 0.1579 - acc: 0.9551\n",
      "Epoch 25/25\n",
      "60000/60000 [==============================] - 1s 13us/step - loss: 0.1562 - acc: 0.9547\n"
=======
      "60000/60000 [==============================] - 1s 17us/step - loss: 0.7836 - acc: 0.7706\n",
      "Epoch 2/25\n",
      "60000/60000 [==============================] - 1s 12us/step - loss: 0.3298 - acc: 0.9070\n",
      "Epoch 3/25\n",
      "60000/60000 [==============================] - 1s 12us/step - loss: 0.2756 - acc: 0.9203\n",
      "Epoch 4/25\n",
      "60000/60000 [==============================] - 1s 12us/step - loss: 0.2507 - acc: 0.9278\n",
      "Epoch 5/25\n",
      "60000/60000 [==============================] - 1s 12us/step - loss: 0.2358 - acc: 0.9331\n",
      "Epoch 6/25\n",
      "60000/60000 [==============================] - 1s 12us/step - loss: 0.2245 - acc: 0.9357\n",
      "Epoch 7/25\n",
      "60000/60000 [==============================] - 1s 12us/step - loss: 0.2151 - acc: 0.9390\n",
      "Epoch 8/25\n",
      "60000/60000 [==============================] - 1s 12us/step - loss: 0.2079 - acc: 0.9410\n",
      "Epoch 9/25\n",
      "60000/60000 [==============================] - 1s 12us/step - loss: 0.2014 - acc: 0.9417\n",
      "Epoch 10/25\n",
      "60000/60000 [==============================] - 1s 12us/step - loss: 0.1962 - acc: 0.9438\n",
      "Epoch 11/25\n",
      "60000/60000 [==============================] - 1s 12us/step - loss: 0.1923 - acc: 0.9447\n",
      "Epoch 12/25\n",
      "60000/60000 [==============================] - 1s 12us/step - loss: 0.1875 - acc: 0.9460\n",
      "Epoch 13/25\n",
      "60000/60000 [==============================] - 1s 13us/step - loss: 0.1839 - acc: 0.9468\n",
      "Epoch 14/25\n",
      "60000/60000 [==============================] - 1s 13us/step - loss: 0.1804 - acc: 0.9482\n",
      "Epoch 15/25\n",
      "60000/60000 [==============================] - 1s 13us/step - loss: 0.1780 - acc: 0.9487\n",
      "Epoch 16/25\n",
      "60000/60000 [==============================] - 1s 13us/step - loss: 0.1750 - acc: 0.9500\n",
      "Epoch 17/25\n",
      "60000/60000 [==============================] - 1s 13us/step - loss: 0.1725 - acc: 0.9503\n",
      "Epoch 18/25\n",
      "60000/60000 [==============================] - 1s 12us/step - loss: 0.1701 - acc: 0.9513\n",
      "Epoch 19/25\n",
      "60000/60000 [==============================] - 1s 13us/step - loss: 0.1681 - acc: 0.9520\n",
      "Epoch 20/25\n",
      "60000/60000 [==============================] - 1s 13us/step - loss: 0.1656 - acc: 0.9528\n",
      "Epoch 21/25\n",
      "60000/60000 [==============================] - 1s 12us/step - loss: 0.1636 - acc: 0.9536: 0s - loss: 0.1409\n",
      "Epoch 22/25\n",
      "60000/60000 [==============================] - 1s 12us/step - loss: 0.1623 - acc: 0.9537\n",
      "Epoch 23/25\n",
      "60000/60000 [==============================] - 1s 12us/step - loss: 0.1603 - acc: 0.9541\n",
      "Epoch 24/25\n",
      "60000/60000 [==============================] - 1s 13us/step - loss: 0.1588 - acc: 0.9547\n",
      "Epoch 25/25\n",
      "60000/60000 [==============================] - 1s 12us/step - loss: 0.1575 - acc: 0.9553\n"
>>>>>>> 38f26f41a9403159284703b375e5ef2c9ec2b243
     ]
    },
    {
     "data": {
      "text/plain": [
<<<<<<< HEAD
       "<keras.callbacks.History at 0x182b0b0748>"
=======
       "<keras.callbacks.History at 0x18232d8eb8>"
>>>>>>> 38f26f41a9403159284703b375e5ef2c9ec2b243
      ]
     },
     "execution_count": 16,
     "metadata": {},
     "output_type": "execute_result"
    }
   ],
   "source": [
    "network.fit(train_images, train_labels, epochs=25, batch_size=128)"
   ]
  },
  {
   "cell_type": "markdown",
   "metadata": {},
   "source": [
    "Two quantities are being displayed during training: the \"loss\" (categorical cross entropy) of the network over the training data, and the accuracy of the network over \n",
    "the training data.\n",
    "\n",
    "We quickly reach an accuracy of 0.989 (i.e. 98.9%) on the training data. Now let's check that our model performs well on the test set too:"
   ]
  },
  {
   "cell_type": "code",
<<<<<<< HEAD
   "execution_count": 17,
   "metadata": {},
   "outputs": [
    {
     "name": "stdout",
     "output_type": "stream",
     "text": [
      "10000/10000 [==============================] - 0s 20us/step\n"
     ]
    }
   ],
=======
   "execution_count": null,
   "metadata": {},
   "outputs": [],
>>>>>>> 38f26f41a9403159284703b375e5ef2c9ec2b243
   "source": [
    "test_loss, test_acc = network.evaluate(test_images, test_labels)"
   ]
  },
  {
   "cell_type": "code",
<<<<<<< HEAD
   "execution_count": 18,
   "metadata": {},
   "outputs": [
    {
     "name": "stdout",
     "output_type": "stream",
     "text": [
      "test_acc: 0.9454 test_loss 0.1968748859189451\n"
     ]
    }
   ],
=======
   "execution_count": null,
   "metadata": {},
   "outputs": [],
>>>>>>> 38f26f41a9403159284703b375e5ef2c9ec2b243
   "source": [
    "print('test_acc:', test_acc, 'test_loss', test_loss)"
   ]
  },
  {
   "cell_type": "markdown",
   "metadata": {},
   "source": [
    "\n",
    "Our test set accuracy turns out to be 97.8% -- that's quite a bit lower than the training set accuracy. \n",
    "This gap between training accuracy and test accuracy is an example of \"overfitting\", \n",
    "the fact that machine learning models tend to perform worse on new data than on their training data. \n",
    "Overfitting will be a central topic in next section.\n",
    "\n",
    "This concludes our very first example -- you just saw how we could build and a train a neural network to classify handwritten digits, in \n",
    "less than 20 lines of Python code. "
   ]
  },
  {
   "cell_type": "markdown",
   "metadata": {},
   "source": [
    "<a id='part3'></a>\n",
    "### Part 3 - Fundamentals of Machine Learning"
   ]
  },
  {
   "cell_type": "markdown",
   "metadata": {},
   "source": [
    "The MNIST example is a category of machine learning called *supervised learning*. This is by far the most common case. It consists of learning to map input data to known targets (also called *annotations*), given a set of examples (often annotated by humans).  Generally, almost all applications of deep learning that are in the spotlight these days belong in this category, such as optical character recognition, speech recognition, image classification, and language translation.\n",
    "\n",
    "#### Evaluating machine-learning models\n",
    "\n",
    "In the MNIST example, we split the data into a training set and a test set. The reason not to evaluate the models on the same data they were trained on quickly became evident: after just a few epochs, all the model began to *overfit*. That is, their performance on never-before-seen data started stalling (or worsening) compared to their performance on the training data—which always improves as training progresses.\n",
    "\n",
    "In machine learning, the goal is to achieve models that *generalize*—that perform well on never-before-seen data—and overfitting is the central obstacle. You can only control that which you can observe, so it’s crucial to be able to reliably measure the generalization power of your model. The following sections look at strategies for mitigating overfitting and maximizing generalization. In this section, we’ll focus on how to measure generalization: how to evaluate machine-learning models.\n",
    "\n",
    "At the end of the day, you’ll end up with a model that performs artificially well on the training data, because that’s what you optimized it for. You care about performance on completely new data, not the training data, so you need to use a completely different, never-before-seen dataset to evaluate the model: the test dataset. Your model shouldn’t have had access to any information about the test set, even indirectly. If anything about the model has been tuned based on test set performance, then your measure of generalization will be flawed.\n",
    "\n",
    "Splitting your data into training and test sets may seem straightforward, but there are a few advanced ways to do it that can come in handy when little data is available. Let’s review three classic evaluation recipes: simple hold-out validation, K-fold validation, and iterated K-fold validation with shuffling.\n",
    "\n",
    "#### Simple Hold-out Validation\n",
    "\n",
    "This is what we did with the MNIST data. Set apart some fraction of your data as your test set. Train on the remaining data, and evaluate on the test set. \n",
    "\n",
    "![hold out validation](holdout.png)\n",
    "\n",
    "This is the simplest evaluation protocol, and it suffers from one flaw: if little data is available, then your training and test sets may contain too few samples to be statistically representative of the data at hand. This is easy to recognize: if different random shuffling rounds of the data before splitting end up yielding very different measures of model performance, then you’re having this issue. K-fold validation and iterated K-fold validation are two ways to address this, as discussed next.\n",
    "\n",
    "\n",
    "#### K-fold Validation\n",
    "\n",
    "With this approach, you split your data into $K$ partitions of equal size. For each partition `i`, train a model on the remaining $K – 1$ partitions, and evaluate it on partition `i`. Your final score is then the averages of the $K$ scores obtained. This method is helpful when the performance of your model shows significant variance based on your train-test split. Like hold-out validation, this method doesn’t exempt you from using a distinct validation set for model calibration.\n",
    "\n",
    "![K-fold validation](kfold.png)\n",
    "\n",
    "#### Iterated K-Fold Validation with Shuffling\n",
    "\n",
    "This one is for situations in which you have relatively little data available and you need to evaluate your model as precisely as possible. This can be helpful in Kaggle competitions. It consists of applying K-fold validation multiple times, shuffling the data every time before splitting it $K$ ways. The final score is the average of the scores obtained at each run of K-fold validation. Note that you end up training and evaluating $P \\times K$ models (where $P$ is the number of iterations you use), which can very expensive.\n",
    "\n",
    "#### Overfitting and Underfitting\n",
    "\n",
    "In the MNIST case, the performance of the model on the held-out validation data always peaked after a few epochs and then began to degrade: the model quickly started to overfit to the training data. Overfitting happens in every machine-learning problem. Learning how to deal with overfitting is essential to mastering machine learning.\n",
    "The fundamental issue in machine learning is the tension between optimization and generalization. *Optimization* refers to the process of adjusting a model to get the best performance possible on the training data (the *learning* in *machine learning*), whereas *generalization* refers to how well the trained model performs on data it has never seen before. The goal of the game is to get good generalization, of course, but you don’t control generalization; you can only adjust the model based on its training data.\n",
    "At the beginning of training, optimization and generalization are correlated: the lower the loss on training data, the lower the loss on test data. While this is happening, your model is said to be *underfit*: there is still progress to be made; the network hasn’t yet modeled all relevant patterns in the training data. But after a certain number of iterations on the training data, generalization stops improving, and validation metrics stall and then begin to degrade: the model is starting to overfit. That is, it’s beginning to learn patterns that are specific to the training data but that are misleading or irrelevant when it comes to new data.\n",
    "To prevent a model from learning misleading or irrelevant patterns found in the training data, *the best solution is to get more training data*. A model trained on more data will naturally generalize better. When that isn’t possible, the next-best solution is to modulate the quantity of information that your model is allowed to store or to add constraints on what information it’s allowed to store. If a network can only afford to memorize a small number of patterns, the optimization process will force it to focus on the most prominent patterns, which have a better chance of generalizing well.\n",
    "The processing of fighting overfitting this way is called *regularization*. "
   ]
  },
  {
   "cell_type": "markdown",
   "metadata": {},
   "source": [
    "### Pima Indians onset for diabetes\n",
    "\n",
    "<!--\n",
    "<a id='part4'></a>\n",
    "### Part 4 - Matplotlib Visualization\n",
    "-->"
   ]
  },
  {
   "cell_type": "markdown",
   "metadata": {},
   "source": [
    "In this exercise we are going to use the Pima Indians onset of diabetes dataset. This is a standard machine learning dataset available for free download from the UCI Machine Learning repository. It describes patient medical record data for Pima Indians and whether they had an onset of diabetes within five years. It is a binary classification problem (onset of diabetes as 1 or not as 0). The input variables that describe each patient are numerical and have varying scales. Below lists the eight attributes for the dataset:\n",
    "1. Number of times pregnant.\n",
    "2. Plasma glucose concentration a 2 hours in an oral glucose tolerance test.\n",
    "3. Diastolic blood pressure (mm Hg).\n",
    "4. Triceps skin fold thickness (mm).\n",
    "5. 2-Hour serum insulin (mu U/ml).\n",
    "6. Body mass index.\n",
    "7. Diabetes pedigree function.\n",
    "8. Age (years).\n",
    "9. Class, onset of diabetes within five years.\n",
    "\n",
    "pima-indians-diabetes.csv"
   ]
  },
  {
   "cell_type": "code",
<<<<<<< HEAD
   "execution_count": 19,
=======
   "execution_count": null,
>>>>>>> 38f26f41a9403159284703b375e5ef2c9ec2b243
   "metadata": {},
   "outputs": [],
   "source": [
    "from keras.models import Sequential\n",
    "from keras.layers import Dense\n",
    "import numpy as np\n",
    "import matplotlib.pylab as plt \n",
    "\n",
    "%matplotlib inline\n",
    "# fix random seed for reproducibility\n",
    "np.random.seed(8)"
   ]
  },
  {
   "cell_type": "code",
<<<<<<< HEAD
   "execution_count": 20,
=======
   "execution_count": null,
>>>>>>> 38f26f41a9403159284703b375e5ef2c9ec2b243
   "metadata": {},
   "outputs": [],
   "source": [
    "dataset = np.loadtxt('pima-indians-diabetes.csv', delimiter=\",\")\n",
    "X = dataset[:, 0:8]\n",
    "y = dataset[:,8]\n"
   ]
  },
  {
   "cell_type": "code",
<<<<<<< HEAD
   "execution_count": 27,
=======
   "execution_count": null,
>>>>>>> 38f26f41a9403159284703b375e5ef2c9ec2b243
   "metadata": {},
   "outputs": [],
   "source": [
    "# create model \n",
    "model = Sequential()\n",
    "model.add(Dense(12, input_dim=8, activation='relu'))\n",
    "model.add(Dense(8,  activation = 'relu'))\n",
    "model.add(Dense(1, activation='sigmoid'))"
   ]
  },
  {
   "cell_type": "code",
<<<<<<< HEAD
   "execution_count": 28,
=======
   "execution_count": null,
>>>>>>> 38f26f41a9403159284703b375e5ef2c9ec2b243
   "metadata": {},
   "outputs": [],
   "source": [
    "#compile model \n",
    "model.compile(loss='binary_crossentropy', optimizer='adam', metrics=['accuracy'])"
   ]
  },
  {
   "cell_type": "code",
<<<<<<< HEAD
   "execution_count": 29,
   "metadata": {
    "scrolled": true
   },
   "outputs": [
    {
     "name": "stdout",
     "output_type": "stream",
     "text": [
      "Train on 514 samples, validate on 254 samples\n",
      "Epoch 1/200\n",
      "514/514 [==============================] - 0s 789us/step - loss: 5.8013 - acc: 0.6401 - val_loss: 5.2669 - val_acc: 0.6732\n",
      "Epoch 2/200\n",
      "514/514 [==============================] - 0s 86us/step - loss: 5.8013 - acc: 0.6401 - val_loss: 5.2669 - val_acc: 0.6732\n",
      "Epoch 3/200\n",
      "514/514 [==============================] - 0s 89us/step - loss: 5.8013 - acc: 0.6401 - val_loss: 5.2669 - val_acc: 0.6732\n",
      "Epoch 4/200\n",
      "514/514 [==============================] - 0s 103us/step - loss: 5.8013 - acc: 0.6401 - val_loss: 5.2669 - val_acc: 0.6732\n",
      "Epoch 5/200\n",
      "514/514 [==============================] - 0s 94us/step - loss: 5.8013 - acc: 0.6401 - val_loss: 5.2669 - val_acc: 0.6732\n",
      "Epoch 6/200\n",
      "514/514 [==============================] - 0s 89us/step - loss: 5.8013 - acc: 0.6401 - val_loss: 5.2669 - val_acc: 0.6732\n",
      "Epoch 7/200\n",
      "514/514 [==============================] - 0s 98us/step - loss: 5.8013 - acc: 0.6401 - val_loss: 5.2669 - val_acc: 0.6732\n",
      "Epoch 8/200\n",
      "514/514 [==============================] - 0s 94us/step - loss: 5.8013 - acc: 0.6401 - val_loss: 5.2669 - val_acc: 0.6732\n",
      "Epoch 9/200\n",
      "514/514 [==============================] - 0s 91us/step - loss: 5.8013 - acc: 0.6401 - val_loss: 5.2669 - val_acc: 0.6732\n",
      "Epoch 10/200\n",
      "514/514 [==============================] - 0s 80us/step - loss: 5.8013 - acc: 0.6401 - val_loss: 5.2669 - val_acc: 0.6732\n",
      "Epoch 11/200\n",
      "514/514 [==============================] - 0s 77us/step - loss: 5.8013 - acc: 0.6401 - val_loss: 5.2669 - val_acc: 0.6732\n",
      "Epoch 12/200\n",
      "514/514 [==============================] - 0s 78us/step - loss: 5.8013 - acc: 0.6401 - val_loss: 5.2669 - val_acc: 0.6732\n",
      "Epoch 13/200\n",
      "514/514 [==============================] - 0s 77us/step - loss: 5.8013 - acc: 0.6401 - val_loss: 5.2669 - val_acc: 0.6732\n",
      "Epoch 14/200\n",
      "514/514 [==============================] - 0s 79us/step - loss: 5.8013 - acc: 0.6401 - val_loss: 5.2669 - val_acc: 0.6732\n",
      "Epoch 15/200\n",
      "514/514 [==============================] - 0s 74us/step - loss: 5.8013 - acc: 0.6401 - val_loss: 5.2669 - val_acc: 0.6732\n",
      "Epoch 16/200\n",
      "514/514 [==============================] - 0s 73us/step - loss: 5.8013 - acc: 0.6401 - val_loss: 5.2669 - val_acc: 0.6732\n",
      "Epoch 17/200\n",
      "514/514 [==============================] - 0s 73us/step - loss: 5.8013 - acc: 0.6401 - val_loss: 5.2669 - val_acc: 0.6732\n",
      "Epoch 18/200\n",
      "514/514 [==============================] - 0s 79us/step - loss: 5.8013 - acc: 0.6401 - val_loss: 5.2669 - val_acc: 0.6732\n",
      "Epoch 19/200\n",
      "514/514 [==============================] - 0s 73us/step - loss: 5.8013 - acc: 0.6401 - val_loss: 5.2669 - val_acc: 0.6732\n",
      "Epoch 20/200\n",
      "514/514 [==============================] - 0s 71us/step - loss: 5.8013 - acc: 0.6401 - val_loss: 5.2669 - val_acc: 0.6732\n",
      "Epoch 21/200\n",
      "514/514 [==============================] - 0s 76us/step - loss: 5.8013 - acc: 0.6401 - val_loss: 5.2669 - val_acc: 0.6732\n",
      "Epoch 22/200\n",
      "514/514 [==============================] - 0s 74us/step - loss: 5.8013 - acc: 0.6401 - val_loss: 5.2669 - val_acc: 0.6732\n",
      "Epoch 23/200\n",
      "514/514 [==============================] - 0s 78us/step - loss: 5.8013 - acc: 0.6401 - val_loss: 5.2669 - val_acc: 0.6732\n",
      "Epoch 24/200\n",
      "514/514 [==============================] - 0s 73us/step - loss: 5.8013 - acc: 0.6401 - val_loss: 5.2669 - val_acc: 0.6732\n",
      "Epoch 25/200\n",
      "514/514 [==============================] - 0s 76us/step - loss: 5.8013 - acc: 0.6401 - val_loss: 5.2669 - val_acc: 0.6732\n",
      "Epoch 26/200\n",
      "514/514 [==============================] - 0s 78us/step - loss: 5.8013 - acc: 0.6401 - val_loss: 5.2669 - val_acc: 0.6732\n",
      "Epoch 27/200\n",
      "514/514 [==============================] - 0s 75us/step - loss: 5.8013 - acc: 0.6401 - val_loss: 5.2669 - val_acc: 0.6732\n",
      "Epoch 28/200\n",
      "514/514 [==============================] - 0s 81us/step - loss: 5.8013 - acc: 0.6401 - val_loss: 5.2669 - val_acc: 0.6732\n",
      "Epoch 29/200\n",
      "514/514 [==============================] - 0s 75us/step - loss: 5.8013 - acc: 0.6401 - val_loss: 5.2669 - val_acc: 0.6732\n",
      "Epoch 30/200\n",
      "514/514 [==============================] - 0s 78us/step - loss: 5.8013 - acc: 0.6401 - val_loss: 5.2669 - val_acc: 0.6732\n",
      "Epoch 31/200\n",
      "514/514 [==============================] - 0s 79us/step - loss: 5.8013 - acc: 0.6401 - val_loss: 5.2669 - val_acc: 0.6732\n",
      "Epoch 32/200\n",
      "514/514 [==============================] - 0s 77us/step - loss: 5.8013 - acc: 0.6401 - val_loss: 5.2669 - val_acc: 0.6732\n",
      "Epoch 33/200\n",
      "514/514 [==============================] - 0s 78us/step - loss: 5.8013 - acc: 0.6401 - val_loss: 5.2669 - val_acc: 0.6732\n",
      "Epoch 34/200\n",
      "514/514 [==============================] - 0s 72us/step - loss: 5.8013 - acc: 0.6401 - val_loss: 5.2669 - val_acc: 0.6732\n",
      "Epoch 35/200\n",
      "514/514 [==============================] - 0s 77us/step - loss: 5.8013 - acc: 0.6401 - val_loss: 5.2669 - val_acc: 0.6732\n",
      "Epoch 36/200\n",
      "514/514 [==============================] - 0s 76us/step - loss: 5.8013 - acc: 0.6401 - val_loss: 5.2669 - val_acc: 0.6732\n",
      "Epoch 37/200\n",
      "514/514 [==============================] - 0s 69us/step - loss: 5.8013 - acc: 0.6401 - val_loss: 5.2669 - val_acc: 0.6732\n",
      "Epoch 38/200\n",
      "514/514 [==============================] - 0s 75us/step - loss: 5.8013 - acc: 0.6401 - val_loss: 5.2669 - val_acc: 0.6732\n",
      "Epoch 39/200\n",
      "514/514 [==============================] - 0s 75us/step - loss: 5.8013 - acc: 0.6401 - val_loss: 5.2669 - val_acc: 0.6732\n",
      "Epoch 40/200\n",
      "514/514 [==============================] - 0s 74us/step - loss: 5.8013 - acc: 0.6401 - val_loss: 5.2669 - val_acc: 0.6732\n",
      "Epoch 41/200\n",
      "514/514 [==============================] - 0s 78us/step - loss: 5.8013 - acc: 0.6401 - val_loss: 5.2669 - val_acc: 0.6732\n",
      "Epoch 42/200\n",
      "514/514 [==============================] - 0s 79us/step - loss: 5.8013 - acc: 0.6401 - val_loss: 5.2669 - val_acc: 0.6732\n",
      "Epoch 43/200\n",
      "514/514 [==============================] - 0s 75us/step - loss: 5.8013 - acc: 0.6401 - val_loss: 5.2669 - val_acc: 0.6732\n",
      "Epoch 44/200\n",
      "514/514 [==============================] - 0s 76us/step - loss: 5.8013 - acc: 0.6401 - val_loss: 5.2669 - val_acc: 0.6732\n",
      "Epoch 45/200\n",
      "514/514 [==============================] - 0s 76us/step - loss: 5.8013 - acc: 0.6401 - val_loss: 5.2669 - val_acc: 0.6732\n",
      "Epoch 46/200\n",
      "514/514 [==============================] - 0s 74us/step - loss: 5.8013 - acc: 0.6401 - val_loss: 5.2669 - val_acc: 0.6732\n",
      "Epoch 47/200\n",
      "514/514 [==============================] - 0s 76us/step - loss: 5.8013 - acc: 0.6401 - val_loss: 5.2669 - val_acc: 0.6732\n",
      "Epoch 48/200\n",
      "514/514 [==============================] - 0s 72us/step - loss: 5.8013 - acc: 0.6401 - val_loss: 5.2669 - val_acc: 0.6732\n",
      "Epoch 49/200\n",
      "514/514 [==============================] - 0s 73us/step - loss: 5.8013 - acc: 0.6401 - val_loss: 5.2669 - val_acc: 0.6732\n",
      "Epoch 50/200\n",
      "514/514 [==============================] - 0s 80us/step - loss: 5.8013 - acc: 0.6401 - val_loss: 5.2669 - val_acc: 0.6732\n",
      "Epoch 51/200\n",
      "514/514 [==============================] - 0s 74us/step - loss: 5.8013 - acc: 0.6401 - val_loss: 5.2669 - val_acc: 0.6732\n",
      "Epoch 52/200\n",
      "514/514 [==============================] - 0s 78us/step - loss: 5.8013 - acc: 0.6401 - val_loss: 5.2669 - val_acc: 0.6732\n",
      "Epoch 53/200\n",
      "514/514 [==============================] - 0s 75us/step - loss: 5.8013 - acc: 0.6401 - val_loss: 5.2669 - val_acc: 0.6732\n",
      "Epoch 54/200\n",
      "514/514 [==============================] - 0s 77us/step - loss: 5.8013 - acc: 0.6401 - val_loss: 5.2669 - val_acc: 0.6732\n",
      "Epoch 55/200\n",
      "514/514 [==============================] - 0s 74us/step - loss: 5.8013 - acc: 0.6401 - val_loss: 5.2669 - val_acc: 0.6732\n",
      "Epoch 56/200\n",
      "514/514 [==============================] - 0s 75us/step - loss: 5.8013 - acc: 0.6401 - val_loss: 5.2669 - val_acc: 0.6732\n",
      "Epoch 57/200\n",
      "514/514 [==============================] - 0s 80us/step - loss: 5.8013 - acc: 0.6401 - val_loss: 5.2669 - val_acc: 0.6732\n",
      "Epoch 58/200\n",
      "514/514 [==============================] - 0s 77us/step - loss: 5.8013 - acc: 0.6401 - val_loss: 5.2669 - val_acc: 0.6732\n",
      "Epoch 59/200\n",
      "514/514 [==============================] - 0s 76us/step - loss: 5.8013 - acc: 0.6401 - val_loss: 5.2669 - val_acc: 0.6732\n",
      "Epoch 60/200\n",
      "514/514 [==============================] - 0s 83us/step - loss: 5.8013 - acc: 0.6401 - val_loss: 5.2669 - val_acc: 0.6732\n",
      "Epoch 61/200\n",
      "514/514 [==============================] - 0s 75us/step - loss: 5.8013 - acc: 0.6401 - val_loss: 5.2669 - val_acc: 0.6732\n",
      "Epoch 62/200\n",
      "514/514 [==============================] - 0s 80us/step - loss: 5.8013 - acc: 0.6401 - val_loss: 5.2669 - val_acc: 0.6732\n",
      "Epoch 63/200\n",
      "514/514 [==============================] - 0s 83us/step - loss: 5.8013 - acc: 0.6401 - val_loss: 5.2669 - val_acc: 0.6732\n",
      "Epoch 64/200\n",
      "514/514 [==============================] - 0s 82us/step - loss: 5.8013 - acc: 0.6401 - val_loss: 5.2669 - val_acc: 0.6732\n",
      "Epoch 65/200\n",
      "514/514 [==============================] - 0s 77us/step - loss: 5.8013 - acc: 0.6401 - val_loss: 5.2669 - val_acc: 0.6732\n",
      "Epoch 66/200\n",
      "514/514 [==============================] - 0s 76us/step - loss: 5.8013 - acc: 0.6401 - val_loss: 5.2669 - val_acc: 0.6732\n",
      "Epoch 67/200\n",
      "514/514 [==============================] - 0s 74us/step - loss: 5.8013 - acc: 0.6401 - val_loss: 5.2669 - val_acc: 0.6732\n",
      "Epoch 68/200\n",
      "514/514 [==============================] - 0s 75us/step - loss: 5.8013 - acc: 0.6401 - val_loss: 5.2669 - val_acc: 0.6732\n",
      "Epoch 69/200\n",
      "514/514 [==============================] - 0s 72us/step - loss: 5.8013 - acc: 0.6401 - val_loss: 5.2669 - val_acc: 0.6732\n",
      "Epoch 70/200\n",
      "514/514 [==============================] - 0s 66us/step - loss: 5.8013 - acc: 0.6401 - val_loss: 5.2669 - val_acc: 0.6732\n",
      "Epoch 71/200\n",
      "514/514 [==============================] - 0s 88us/step - loss: 5.8013 - acc: 0.6401 - val_loss: 5.2669 - val_acc: 0.6732\n",
      "Epoch 72/200\n",
      "514/514 [==============================] - 0s 82us/step - loss: 5.8013 - acc: 0.6401 - val_loss: 5.2669 - val_acc: 0.6732\n",
      "Epoch 73/200\n",
      "514/514 [==============================] - 0s 79us/step - loss: 5.8013 - acc: 0.6401 - val_loss: 5.2669 - val_acc: 0.6732\n",
      "Epoch 74/200\n",
      "514/514 [==============================] - 0s 73us/step - loss: 5.8013 - acc: 0.6401 - val_loss: 5.2669 - val_acc: 0.6732\n",
      "Epoch 75/200\n",
      "514/514 [==============================] - 0s 80us/step - loss: 5.8013 - acc: 0.6401 - val_loss: 5.2669 - val_acc: 0.6732\n",
      "Epoch 76/200\n",
      "514/514 [==============================] - 0s 77us/step - loss: 5.8013 - acc: 0.6401 - val_loss: 5.2669 - val_acc: 0.6732\n",
      "Epoch 77/200\n",
      "514/514 [==============================] - 0s 79us/step - loss: 5.8013 - acc: 0.6401 - val_loss: 5.2669 - val_acc: 0.6732\n",
      "Epoch 78/200\n",
      "514/514 [==============================] - 0s 79us/step - loss: 5.8013 - acc: 0.6401 - val_loss: 5.2669 - val_acc: 0.6732\n",
      "Epoch 79/200\n",
      "514/514 [==============================] - 0s 84us/step - loss: 5.8013 - acc: 0.6401 - val_loss: 5.2669 - val_acc: 0.6732\n",
      "Epoch 80/200\n",
      "514/514 [==============================] - 0s 76us/step - loss: 5.8013 - acc: 0.6401 - val_loss: 5.2669 - val_acc: 0.6732\n",
      "Epoch 81/200\n",
      "514/514 [==============================] - 0s 65us/step - loss: 5.8013 - acc: 0.6401 - val_loss: 5.2669 - val_acc: 0.6732\n",
      "Epoch 82/200\n",
      "514/514 [==============================] - 0s 67us/step - loss: 5.8013 - acc: 0.6401 - val_loss: 5.2669 - val_acc: 0.6732\n",
      "Epoch 83/200\n",
      "514/514 [==============================] - 0s 70us/step - loss: 5.8013 - acc: 0.6401 - val_loss: 5.2669 - val_acc: 0.6732\n",
      "Epoch 84/200\n",
      "514/514 [==============================] - 0s 71us/step - loss: 5.8013 - acc: 0.6401 - val_loss: 5.2669 - val_acc: 0.6732\n",
      "Epoch 85/200\n",
      "514/514 [==============================] - 0s 74us/step - loss: 5.8013 - acc: 0.6401 - val_loss: 5.2669 - val_acc: 0.6732\n",
      "Epoch 86/200\n",
      "514/514 [==============================] - 0s 71us/step - loss: 5.8013 - acc: 0.6401 - val_loss: 5.2669 - val_acc: 0.6732\n",
      "Epoch 87/200\n",
      "514/514 [==============================] - 0s 70us/step - loss: 5.8013 - acc: 0.6401 - val_loss: 5.2669 - val_acc: 0.6732\n",
      "Epoch 88/200\n",
      "514/514 [==============================] - 0s 74us/step - loss: 5.8013 - acc: 0.6401 - val_loss: 5.2669 - val_acc: 0.6732\n",
      "Epoch 89/200\n",
      "514/514 [==============================] - 0s 72us/step - loss: 5.8013 - acc: 0.6401 - val_loss: 5.2669 - val_acc: 0.6732\n",
      "Epoch 90/200\n",
      "514/514 [==============================] - 0s 75us/step - loss: 5.8013 - acc: 0.6401 - val_loss: 5.2669 - val_acc: 0.6732\n",
      "Epoch 91/200\n",
      "514/514 [==============================] - 0s 71us/step - loss: 5.8013 - acc: 0.6401 - val_loss: 5.2669 - val_acc: 0.6732\n",
      "Epoch 92/200\n",
      "514/514 [==============================] - 0s 70us/step - loss: 5.8013 - acc: 0.6401 - val_loss: 5.2669 - val_acc: 0.6732\n",
      "Epoch 93/200\n",
      "514/514 [==============================] - 0s 75us/step - loss: 5.8013 - acc: 0.6401 - val_loss: 5.2669 - val_acc: 0.6732\n",
      "Epoch 94/200\n",
      "514/514 [==============================] - 0s 72us/step - loss: 5.8013 - acc: 0.6401 - val_loss: 5.2669 - val_acc: 0.6732\n",
      "Epoch 95/200\n",
      "514/514 [==============================] - 0s 75us/step - loss: 5.8013 - acc: 0.6401 - val_loss: 5.2669 - val_acc: 0.6732\n",
      "Epoch 96/200\n",
      "514/514 [==============================] - 0s 74us/step - loss: 5.8013 - acc: 0.6401 - val_loss: 5.2669 - val_acc: 0.6732\n",
      "Epoch 97/200\n",
      "514/514 [==============================] - 0s 73us/step - loss: 5.8013 - acc: 0.6401 - val_loss: 5.2669 - val_acc: 0.6732\n",
      "Epoch 98/200\n",
      "514/514 [==============================] - 0s 75us/step - loss: 5.8013 - acc: 0.6401 - val_loss: 5.2669 - val_acc: 0.6732\n",
      "Epoch 99/200\n",
      "514/514 [==============================] - 0s 69us/step - loss: 5.8013 - acc: 0.6401 - val_loss: 5.2669 - val_acc: 0.6732\n",
      "Epoch 100/200\n",
      "514/514 [==============================] - 0s 74us/step - loss: 5.8013 - acc: 0.6401 - val_loss: 5.2669 - val_acc: 0.6732\n",
      "Epoch 101/200\n",
      "514/514 [==============================] - 0s 79us/step - loss: 5.8013 - acc: 0.6401 - val_loss: 5.2669 - val_acc: 0.6732\n",
      "Epoch 102/200\n",
      "514/514 [==============================] - 0s 80us/step - loss: 5.8013 - acc: 0.6401 - val_loss: 5.2669 - val_acc: 0.6732\n",
      "Epoch 103/200\n",
      "514/514 [==============================] - 0s 77us/step - loss: 5.8013 - acc: 0.6401 - val_loss: 5.2669 - val_acc: 0.6732\n",
      "Epoch 104/200\n",
      "514/514 [==============================] - 0s 72us/step - loss: 5.8013 - acc: 0.6401 - val_loss: 5.2669 - val_acc: 0.6732\n",
      "Epoch 105/200\n",
      "514/514 [==============================] - 0s 83us/step - loss: 5.8013 - acc: 0.6401 - val_loss: 5.2669 - val_acc: 0.6732\n",
      "Epoch 106/200\n",
      "514/514 [==============================] - 0s 82us/step - loss: 5.8013 - acc: 0.6401 - val_loss: 5.2669 - val_acc: 0.6732\n",
      "Epoch 107/200\n",
      "514/514 [==============================] - 0s 83us/step - loss: 5.8013 - acc: 0.6401 - val_loss: 5.2669 - val_acc: 0.6732\n",
      "Epoch 108/200\n",
      "514/514 [==============================] - 0s 71us/step - loss: 5.8013 - acc: 0.6401 - val_loss: 5.2669 - val_acc: 0.6732\n",
      "Epoch 109/200\n",
      "514/514 [==============================] - 0s 78us/step - loss: 5.8013 - acc: 0.6401 - val_loss: 5.2669 - val_acc: 0.6732\n",
      "Epoch 110/200\n",
      "514/514 [==============================] - 0s 72us/step - loss: 5.8013 - acc: 0.6401 - val_loss: 5.2669 - val_acc: 0.6732\n",
      "Epoch 111/200\n",
      "514/514 [==============================] - 0s 83us/step - loss: 5.8013 - acc: 0.6401 - val_loss: 5.2669 - val_acc: 0.6732\n",
      "Epoch 112/200\n",
      "514/514 [==============================] - 0s 79us/step - loss: 5.8013 - acc: 0.6401 - val_loss: 5.2669 - val_acc: 0.6732\n",
      "Epoch 113/200\n",
      "514/514 [==============================] - 0s 77us/step - loss: 5.8013 - acc: 0.6401 - val_loss: 5.2669 - val_acc: 0.6732\n",
      "Epoch 114/200\n",
      "514/514 [==============================] - 0s 73us/step - loss: 5.8013 - acc: 0.6401 - val_loss: 5.2669 - val_acc: 0.6732\n",
      "Epoch 115/200\n",
      "514/514 [==============================] - 0s 73us/step - loss: 5.8013 - acc: 0.6401 - val_loss: 5.2669 - val_acc: 0.6732\n",
      "Epoch 116/200\n",
      "514/514 [==============================] - 0s 77us/step - loss: 5.8013 - acc: 0.6401 - val_loss: 5.2669 - val_acc: 0.6732\n",
      "Epoch 117/200\n",
      "514/514 [==============================] - 0s 82us/step - loss: 5.8013 - acc: 0.6401 - val_loss: 5.2669 - val_acc: 0.6732\n",
      "Epoch 118/200\n",
      "514/514 [==============================] - 0s 76us/step - loss: 5.8013 - acc: 0.6401 - val_loss: 5.2669 - val_acc: 0.6732\n",
      "Epoch 119/200\n",
      "514/514 [==============================] - 0s 71us/step - loss: 5.8013 - acc: 0.6401 - val_loss: 5.2669 - val_acc: 0.6732\n",
      "Epoch 120/200\n",
      "514/514 [==============================] - 0s 73us/step - loss: 5.8013 - acc: 0.6401 - val_loss: 5.2669 - val_acc: 0.6732\n",
      "Epoch 121/200\n"
     ]
    },
    {
     "name": "stdout",
     "output_type": "stream",
     "text": [
      "514/514 [==============================] - 0s 74us/step - loss: 5.8013 - acc: 0.6401 - val_loss: 5.2669 - val_acc: 0.6732\n",
      "Epoch 122/200\n",
      "514/514 [==============================] - 0s 80us/step - loss: 5.8013 - acc: 0.6401 - val_loss: 5.2669 - val_acc: 0.6732\n",
      "Epoch 123/200\n",
      "514/514 [==============================] - 0s 69us/step - loss: 5.8013 - acc: 0.6401 - val_loss: 5.2669 - val_acc: 0.6732\n",
      "Epoch 124/200\n",
      "514/514 [==============================] - 0s 73us/step - loss: 5.8013 - acc: 0.6401 - val_loss: 5.2669 - val_acc: 0.6732\n",
      "Epoch 125/200\n",
      "514/514 [==============================] - 0s 74us/step - loss: 5.8013 - acc: 0.6401 - val_loss: 5.2669 - val_acc: 0.6732\n",
      "Epoch 126/200\n",
      "514/514 [==============================] - 0s 72us/step - loss: 5.8013 - acc: 0.6401 - val_loss: 5.2669 - val_acc: 0.6732\n",
      "Epoch 127/200\n",
      "514/514 [==============================] - 0s 76us/step - loss: 5.8013 - acc: 0.6401 - val_loss: 5.2669 - val_acc: 0.6732\n",
      "Epoch 128/200\n",
      "514/514 [==============================] - 0s 74us/step - loss: 5.8013 - acc: 0.6401 - val_loss: 5.2669 - val_acc: 0.6732\n",
      "Epoch 129/200\n",
      "514/514 [==============================] - 0s 72us/step - loss: 5.8013 - acc: 0.6401 - val_loss: 5.2669 - val_acc: 0.6732\n",
      "Epoch 130/200\n",
      "514/514 [==============================] - 0s 76us/step - loss: 5.8013 - acc: 0.6401 - val_loss: 5.2669 - val_acc: 0.6732\n",
      "Epoch 131/200\n",
      "514/514 [==============================] - 0s 77us/step - loss: 5.8013 - acc: 0.6401 - val_loss: 5.2669 - val_acc: 0.6732\n",
      "Epoch 132/200\n",
      "514/514 [==============================] - 0s 79us/step - loss: 5.8013 - acc: 0.6401 - val_loss: 5.2669 - val_acc: 0.6732\n",
      "Epoch 133/200\n",
      "514/514 [==============================] - 0s 76us/step - loss: 5.8013 - acc: 0.6401 - val_loss: 5.2669 - val_acc: 0.6732\n",
      "Epoch 134/200\n",
      "514/514 [==============================] - 0s 79us/step - loss: 5.8013 - acc: 0.6401 - val_loss: 5.2669 - val_acc: 0.6732\n",
      "Epoch 135/200\n",
      "514/514 [==============================] - 0s 76us/step - loss: 5.8013 - acc: 0.6401 - val_loss: 5.2669 - val_acc: 0.6732\n",
      "Epoch 136/200\n",
      "514/514 [==============================] - 0s 76us/step - loss: 5.8013 - acc: 0.6401 - val_loss: 5.2669 - val_acc: 0.6732\n",
      "Epoch 137/200\n",
      "514/514 [==============================] - 0s 80us/step - loss: 5.8013 - acc: 0.6401 - val_loss: 5.2669 - val_acc: 0.6732\n",
      "Epoch 138/200\n",
      "514/514 [==============================] - 0s 74us/step - loss: 5.8013 - acc: 0.6401 - val_loss: 5.2669 - val_acc: 0.6732\n",
      "Epoch 139/200\n",
      "514/514 [==============================] - 0s 74us/step - loss: 5.8013 - acc: 0.6401 - val_loss: 5.2669 - val_acc: 0.6732\n",
      "Epoch 140/200\n",
      "514/514 [==============================] - 0s 76us/step - loss: 5.8013 - acc: 0.6401 - val_loss: 5.2669 - val_acc: 0.6732\n",
      "Epoch 141/200\n",
      "514/514 [==============================] - 0s 77us/step - loss: 5.8013 - acc: 0.6401 - val_loss: 5.2669 - val_acc: 0.6732\n",
      "Epoch 142/200\n",
      "514/514 [==============================] - 0s 80us/step - loss: 5.8013 - acc: 0.6401 - val_loss: 5.2669 - val_acc: 0.6732\n",
      "Epoch 143/200\n",
      "514/514 [==============================] - 0s 74us/step - loss: 5.8013 - acc: 0.6401 - val_loss: 5.2669 - val_acc: 0.6732\n",
      "Epoch 144/200\n",
      "514/514 [==============================] - 0s 78us/step - loss: 5.8013 - acc: 0.6401 - val_loss: 5.2669 - val_acc: 0.6732\n",
      "Epoch 145/200\n",
      "514/514 [==============================] - 0s 67us/step - loss: 5.8013 - acc: 0.6401 - val_loss: 5.2669 - val_acc: 0.6732\n",
      "Epoch 146/200\n",
      "514/514 [==============================] - 0s 74us/step - loss: 5.8013 - acc: 0.6401 - val_loss: 5.2669 - val_acc: 0.6732\n",
      "Epoch 147/200\n",
      "514/514 [==============================] - 0s 72us/step - loss: 5.8013 - acc: 0.6401 - val_loss: 5.2669 - val_acc: 0.6732\n",
      "Epoch 148/200\n",
      "514/514 [==============================] - 0s 74us/step - loss: 5.8013 - acc: 0.6401 - val_loss: 5.2669 - val_acc: 0.6732\n",
      "Epoch 149/200\n",
      "514/514 [==============================] - 0s 71us/step - loss: 5.8013 - acc: 0.6401 - val_loss: 5.2669 - val_acc: 0.6732\n",
      "Epoch 150/200\n",
      "514/514 [==============================] - 0s 77us/step - loss: 5.8013 - acc: 0.6401 - val_loss: 5.2669 - val_acc: 0.6732\n",
      "Epoch 151/200\n",
      "514/514 [==============================] - 0s 76us/step - loss: 5.8013 - acc: 0.6401 - val_loss: 5.2669 - val_acc: 0.6732\n",
      "Epoch 152/200\n",
      "514/514 [==============================] - 0s 73us/step - loss: 5.8013 - acc: 0.6401 - val_loss: 5.2669 - val_acc: 0.6732\n",
      "Epoch 153/200\n",
      "514/514 [==============================] - 0s 72us/step - loss: 5.8013 - acc: 0.6401 - val_loss: 5.2669 - val_acc: 0.6732\n",
      "Epoch 154/200\n",
      "514/514 [==============================] - 0s 77us/step - loss: 5.8013 - acc: 0.6401 - val_loss: 5.2669 - val_acc: 0.6732\n",
      "Epoch 155/200\n",
      "514/514 [==============================] - 0s 68us/step - loss: 5.8013 - acc: 0.6401 - val_loss: 5.2669 - val_acc: 0.6732\n",
      "Epoch 156/200\n",
      "514/514 [==============================] - 0s 74us/step - loss: 5.8013 - acc: 0.6401 - val_loss: 5.2669 - val_acc: 0.6732\n",
      "Epoch 157/200\n",
      "514/514 [==============================] - 0s 79us/step - loss: 5.8013 - acc: 0.6401 - val_loss: 5.2669 - val_acc: 0.6732\n",
      "Epoch 158/200\n",
      "514/514 [==============================] - 0s 71us/step - loss: 5.8013 - acc: 0.6401 - val_loss: 5.2669 - val_acc: 0.6732\n",
      "Epoch 159/200\n",
      "514/514 [==============================] - 0s 74us/step - loss: 5.8013 - acc: 0.6401 - val_loss: 5.2669 - val_acc: 0.6732\n",
      "Epoch 160/200\n",
      "514/514 [==============================] - 0s 80us/step - loss: 5.8013 - acc: 0.6401 - val_loss: 5.2669 - val_acc: 0.6732\n",
      "Epoch 161/200\n",
      "514/514 [==============================] - 0s 70us/step - loss: 5.8013 - acc: 0.6401 - val_loss: 5.2669 - val_acc: 0.6732\n",
      "Epoch 162/200\n",
      "514/514 [==============================] - 0s 73us/step - loss: 5.8013 - acc: 0.6401 - val_loss: 5.2669 - val_acc: 0.6732\n",
      "Epoch 163/200\n",
      "514/514 [==============================] - 0s 80us/step - loss: 5.8013 - acc: 0.6401 - val_loss: 5.2669 - val_acc: 0.6732\n",
      "Epoch 164/200\n",
      "514/514 [==============================] - 0s 73us/step - loss: 5.8013 - acc: 0.6401 - val_loss: 5.2669 - val_acc: 0.6732\n",
      "Epoch 165/200\n",
      "514/514 [==============================] - 0s 82us/step - loss: 5.8013 - acc: 0.6401 - val_loss: 5.2669 - val_acc: 0.6732\n",
      "Epoch 166/200\n",
      "514/514 [==============================] - 0s 74us/step - loss: 5.8013 - acc: 0.6401 - val_loss: 5.2669 - val_acc: 0.6732\n",
      "Epoch 167/200\n",
      "514/514 [==============================] - 0s 76us/step - loss: 5.8013 - acc: 0.6401 - val_loss: 5.2669 - val_acc: 0.6732\n",
      "Epoch 168/200\n",
      "514/514 [==============================] - 0s 76us/step - loss: 5.8013 - acc: 0.6401 - val_loss: 5.2669 - val_acc: 0.6732\n",
      "Epoch 169/200\n",
      "514/514 [==============================] - 0s 70us/step - loss: 5.8013 - acc: 0.6401 - val_loss: 5.2669 - val_acc: 0.6732\n",
      "Epoch 170/200\n",
      "514/514 [==============================] - 0s 75us/step - loss: 5.8013 - acc: 0.6401 - val_loss: 5.2669 - val_acc: 0.6732\n",
      "Epoch 171/200\n",
      "514/514 [==============================] - 0s 78us/step - loss: 5.8013 - acc: 0.6401 - val_loss: 5.2669 - val_acc: 0.6732\n",
      "Epoch 172/200\n",
      "514/514 [==============================] - 0s 71us/step - loss: 5.8013 - acc: 0.6401 - val_loss: 5.2669 - val_acc: 0.6732\n",
      "Epoch 173/200\n",
      "514/514 [==============================] - 0s 73us/step - loss: 5.8013 - acc: 0.6401 - val_loss: 5.2669 - val_acc: 0.6732\n",
      "Epoch 174/200\n",
      "514/514 [==============================] - 0s 77us/step - loss: 5.8013 - acc: 0.6401 - val_loss: 5.2669 - val_acc: 0.6732\n",
      "Epoch 175/200\n",
      "514/514 [==============================] - 0s 75us/step - loss: 5.8013 - acc: 0.6401 - val_loss: 5.2669 - val_acc: 0.6732\n",
      "Epoch 176/200\n",
      "514/514 [==============================] - 0s 72us/step - loss: 5.8013 - acc: 0.6401 - val_loss: 5.2669 - val_acc: 0.6732\n",
      "Epoch 177/200\n",
      "514/514 [==============================] - 0s 74us/step - loss: 5.8013 - acc: 0.6401 - val_loss: 5.2669 - val_acc: 0.6732\n",
      "Epoch 178/200\n",
      "514/514 [==============================] - 0s 81us/step - loss: 5.8013 - acc: 0.6401 - val_loss: 5.2669 - val_acc: 0.6732\n",
      "Epoch 179/200\n",
      "514/514 [==============================] - 0s 79us/step - loss: 5.8013 - acc: 0.6401 - val_loss: 5.2669 - val_acc: 0.6732\n",
      "Epoch 180/200\n",
      "514/514 [==============================] - 0s 74us/step - loss: 5.8013 - acc: 0.6401 - val_loss: 5.2669 - val_acc: 0.6732\n",
      "Epoch 181/200\n",
      "514/514 [==============================] - 0s 76us/step - loss: 5.8013 - acc: 0.6401 - val_loss: 5.2669 - val_acc: 0.6732\n",
      "Epoch 182/200\n",
      "514/514 [==============================] - 0s 73us/step - loss: 5.8013 - acc: 0.6401 - val_loss: 5.2669 - val_acc: 0.6732\n",
      "Epoch 183/200\n",
      "514/514 [==============================] - 0s 76us/step - loss: 5.8013 - acc: 0.6401 - val_loss: 5.2669 - val_acc: 0.6732\n",
      "Epoch 184/200\n",
      "514/514 [==============================] - 0s 73us/step - loss: 5.8013 - acc: 0.6401 - val_loss: 5.2669 - val_acc: 0.6732\n",
      "Epoch 185/200\n",
      "514/514 [==============================] - 0s 69us/step - loss: 5.8013 - acc: 0.6401 - val_loss: 5.2669 - val_acc: 0.6732\n",
      "Epoch 186/200\n",
      "514/514 [==============================] - 0s 76us/step - loss: 5.8013 - acc: 0.6401 - val_loss: 5.2669 - val_acc: 0.6732\n",
      "Epoch 187/200\n",
      "514/514 [==============================] - 0s 74us/step - loss: 5.8013 - acc: 0.6401 - val_loss: 5.2669 - val_acc: 0.6732\n",
      "Epoch 188/200\n",
      "514/514 [==============================] - 0s 71us/step - loss: 5.8013 - acc: 0.6401 - val_loss: 5.2669 - val_acc: 0.6732\n",
      "Epoch 189/200\n",
      "514/514 [==============================] - 0s 76us/step - loss: 5.8013 - acc: 0.6401 - val_loss: 5.2669 - val_acc: 0.6732\n",
      "Epoch 190/200\n",
      "514/514 [==============================] - 0s 74us/step - loss: 5.8013 - acc: 0.6401 - val_loss: 5.2669 - val_acc: 0.6732\n",
      "Epoch 191/200\n",
      "514/514 [==============================] - 0s 73us/step - loss: 5.8013 - acc: 0.6401 - val_loss: 5.2669 - val_acc: 0.6732\n",
      "Epoch 192/200\n",
      "514/514 [==============================] - 0s 70us/step - loss: 5.8013 - acc: 0.6401 - val_loss: 5.2669 - val_acc: 0.6732\n",
      "Epoch 193/200\n",
      "514/514 [==============================] - 0s 73us/step - loss: 5.8013 - acc: 0.6401 - val_loss: 5.2669 - val_acc: 0.6732\n",
      "Epoch 194/200\n",
      "514/514 [==============================] - 0s 75us/step - loss: 5.8013 - acc: 0.6401 - val_loss: 5.2669 - val_acc: 0.6732\n",
      "Epoch 195/200\n",
      "514/514 [==============================] - 0s 69us/step - loss: 5.8013 - acc: 0.6401 - val_loss: 5.2669 - val_acc: 0.6732\n",
      "Epoch 196/200\n",
      "514/514 [==============================] - 0s 73us/step - loss: 5.8013 - acc: 0.6401 - val_loss: 5.2669 - val_acc: 0.6732\n",
      "Epoch 197/200\n",
      "514/514 [==============================] - 0s 74us/step - loss: 5.8013 - acc: 0.6401 - val_loss: 5.2669 - val_acc: 0.6732\n",
      "Epoch 198/200\n",
      "514/514 [==============================] - 0s 76us/step - loss: 5.8013 - acc: 0.6401 - val_loss: 5.2669 - val_acc: 0.6732\n",
      "Epoch 199/200\n",
      "514/514 [==============================] - 0s 72us/step - loss: 5.8013 - acc: 0.6401 - val_loss: 5.2669 - val_acc: 0.6732\n",
      "Epoch 200/200\n",
      "514/514 [==============================] - 0s 73us/step - loss: 5.8013 - acc: 0.6401 - val_loss: 5.2669 - val_acc: 0.6732\n"
     ]
    }
   ],
=======
   "execution_count": null,
   "metadata": {
    "scrolled": true
   },
   "outputs": [],
>>>>>>> 38f26f41a9403159284703b375e5ef2c9ec2b243
   "source": [
    "s = model.fit(X, y, validation_split=0.33, epochs=200, batch_size = 20);"
   ]
  },
  {
   "cell_type": "code",
<<<<<<< HEAD
   "execution_count": 30,
=======
   "execution_count": null,
>>>>>>> 38f26f41a9403159284703b375e5ef2c9ec2b243
   "metadata": {},
   "outputs": [],
   "source": [
    "val_acc = s.history['val_acc']\n",
    "train_acc = s.history['acc']\n"
   ]
  },
  {
   "cell_type": "code",
<<<<<<< HEAD
   "execution_count": 31,
   "metadata": {},
   "outputs": [
    {
     "data": {
      "text/plain": [
       "<matplotlib.legend.Legend at 0x18379dbe10>"
      ]
     },
     "execution_count": 31,
     "metadata": {},
     "output_type": "execute_result"
    },
    {
     "data": {
      "image/png": "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\n",
      "text/plain": [
       "<matplotlib.figure.Figure at 0x1837771cf8>"
      ]
     },
     "metadata": {},
     "output_type": "display_data"
    }
   ],
=======
   "execution_count": null,
   "metadata": {},
   "outputs": [],
>>>>>>> 38f26f41a9403159284703b375e5ef2c9ec2b243
   "source": [
    "plt.plot(val_acc)\n",
    "plt.plot(train_acc, 'r', label = 'train')\n",
    "plt.legend()"
   ]
  },
  {
   "cell_type": "code",
<<<<<<< HEAD
   "execution_count": 32,
   "metadata": {},
   "outputs": [
    {
     "data": {
      "image/png": "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\n",
      "text/plain": [
       "<matplotlib.figure.Figure at 0x18377dceb8>"
      ]
     },
     "metadata": {},
     "output_type": "display_data"
    }
   ],
=======
   "execution_count": null,
   "metadata": {},
   "outputs": [],
>>>>>>> 38f26f41a9403159284703b375e5ef2c9ec2b243
   "source": [
    "plt.plot(model.layers[0].get_weights()[0]);"
   ]
  },
  {
   "cell_type": "code",
   "execution_count": 35,
   "metadata": {},
   "outputs": [
    {
     "data": {
      "text/plain": [
       "(8, 12)"
      ]
     },
     "execution_count": 35,
     "metadata": {},
     "output_type": "execute_result"
    }
   ],
   "source": [
    "model.layers[0].get_weights()[0].shape"
   ]
  },
  {
   "cell_type": "markdown",
   "metadata": {},
   "source": [
    "<a id='references'></a>\n",
    "### References and Where to Learning More\n",
    "\n",
    "* Most of this introduction is based on the book [Deep Learning with Python](https://www.manning.com/books/deep-learning-with-python) written by the author of Keras. It is a very practical introduction to Deep Learning. It is appropriate for those with some Python knowledge who want to start with machine learning.\n",
    "* [Deep Learning Book](http://www.deeplearningbook.org/) is a theoretical book in three parts: 1) The mathematical\n",
    "basis for Deep Learning, 2) Modern Practice Deep Networks, 3) Deep Learning Research. It is a good second book after getting some practical initial experience.\n",
    "* https://machinelearningmastery.com/deep-learning-with-python/ \n",
    "\n",
    "We also recommend Andrew Ng's online course: https://www.deeplearning.ai/\n",
    "\n",
    "Harvard FAS has the following undergraduate and graduate level machine learning courses:\n",
    "* [CS109 Introduction to Data Science](https://github.com/cs109). Two semester intensive course on data science including machine learning. Also offered through the Extension School (see below).\n",
    "* [CS181: Machine Learning](https://harvard-ml-courses.github.io/cs181-web-2017/)\n",
    "* [CS281: Advanced Machine Learning](https://harvard-ml-courses.github.io/cs281-web/)\n",
    "* CS282R: Topics in Machine Learning. Graduate level exploration of machine learning. Topics vary \n",
    "every iteration.\n",
    "* [CS287: Natural Language Processing](https://github.com/harvard-ml-courses/cs287-s18)\n",
    "\n"
   ]
  },
  {
   "cell_type": "code",
   "execution_count": null,
   "metadata": {},
   "outputs": [],
   "source": []
  }
 ],
 "metadata": {
  "kernelspec": {
   "display_name": "Python 3",
   "language": "python",
   "name": "python3"
  },
  "language_info": {
   "codemirror_mode": {
    "name": "ipython",
    "version": 3
   },
   "file_extension": ".py",
   "mimetype": "text/x-python",
   "name": "python",
   "nbconvert_exporter": "python",
   "pygments_lexer": "ipython3",
   "version": "3.6.4"
  }
 },
 "nbformat": 4,
 "nbformat_minor": 2
}
